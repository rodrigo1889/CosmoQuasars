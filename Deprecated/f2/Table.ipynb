{
 "cells": [
  {
   "cell_type": "code",
   "execution_count": 1,
   "id": "ec782a9e-ff61-4bdb-8f75-eef5eedf1fdb",
   "metadata": {
    "tags": []
   },
   "outputs": [],
   "source": [
    "import numpy as np \n",
    "import emcee \n",
    "import matplotlib.pyplot as plt \n",
    "from chainconsumer import ChainConsumer"
   ]
  },
  {
   "cell_type": "code",
   "execution_count": 4,
   "id": "a25007e2-c25b-4685-9e2e-93b73abf3ebf",
   "metadata": {
    "tags": []
   },
   "outputs": [],
   "source": [
    "lusso = emcee.backends.HDFBackend(\"Lusso/shoes.h5\")"
   ]
  },
  {
   "cell_type": "code",
   "execution_count": 11,
   "id": "da1fb293-08de-4a3a-bd5a-91dd9f990fe7",
   "metadata": {
    "tags": []
   },
   "outputs": [
    {
     "ename": "OSError",
     "evalue": "Unable to open file (truncated file: eof = 247660544, sblock->base_addr = 0, stored_eof = 247697512)",
     "output_type": "error",
     "traceback": [
      "\u001b[0;31m---------------------------------------------------------------------------\u001b[0m",
      "\u001b[0;31mOSError\u001b[0m                                   Traceback (most recent call last)",
      "Cell \u001b[0;32mIn[11], line 1\u001b[0m\n\u001b[0;32m----> 1\u001b[0m \u001b[43mlusso\u001b[49m\u001b[38;5;241;43m.\u001b[39;49m\u001b[43mopen\u001b[49m\u001b[43m(\u001b[49m\u001b[43m)\u001b[49m\n",
      "File \u001b[0;32m~/.local/lib/python3.10/site-packages/emcee/backends/hdf.py:97\u001b[0m, in \u001b[0;36mHDFBackend.open\u001b[0;34m(self, mode)\u001b[0m\n\u001b[1;32m     91\u001b[0m \u001b[38;5;28;01mif\u001b[39;00m \u001b[38;5;28mself\u001b[39m\u001b[38;5;241m.\u001b[39mread_only \u001b[38;5;129;01mand\u001b[39;00m mode \u001b[38;5;241m!=\u001b[39m \u001b[38;5;124m\"\u001b[39m\u001b[38;5;124mr\u001b[39m\u001b[38;5;124m\"\u001b[39m:\n\u001b[1;32m     92\u001b[0m     \u001b[38;5;28;01mraise\u001b[39;00m \u001b[38;5;167;01mRuntimeError\u001b[39;00m(\n\u001b[1;32m     93\u001b[0m         \u001b[38;5;124m\"\u001b[39m\u001b[38;5;124mThe backend has been loaded in read-only \u001b[39m\u001b[38;5;124m\"\u001b[39m\n\u001b[1;32m     94\u001b[0m         \u001b[38;5;124m\"\u001b[39m\u001b[38;5;124mmode. Set `read_only = False` to make \u001b[39m\u001b[38;5;124m\"\u001b[39m\n\u001b[1;32m     95\u001b[0m         \u001b[38;5;124m\"\u001b[39m\u001b[38;5;124mchanges.\u001b[39m\u001b[38;5;124m\"\u001b[39m\n\u001b[1;32m     96\u001b[0m     )\n\u001b[0;32m---> 97\u001b[0m f \u001b[38;5;241m=\u001b[39m \u001b[43mh5py\u001b[49m\u001b[38;5;241;43m.\u001b[39;49m\u001b[43mFile\u001b[49m\u001b[43m(\u001b[49m\u001b[38;5;28;43mself\u001b[39;49m\u001b[38;5;241;43m.\u001b[39;49m\u001b[43mfilename\u001b[49m\u001b[43m,\u001b[49m\u001b[43m \u001b[49m\u001b[43mmode\u001b[49m\u001b[43m)\u001b[49m\n\u001b[1;32m     98\u001b[0m \u001b[38;5;28;01mif\u001b[39;00m \u001b[38;5;129;01mnot\u001b[39;00m \u001b[38;5;28mself\u001b[39m\u001b[38;5;241m.\u001b[39mdtype_set \u001b[38;5;129;01mand\u001b[39;00m \u001b[38;5;28mself\u001b[39m\u001b[38;5;241m.\u001b[39mname \u001b[38;5;129;01min\u001b[39;00m f:\n\u001b[1;32m     99\u001b[0m     g \u001b[38;5;241m=\u001b[39m f[\u001b[38;5;28mself\u001b[39m\u001b[38;5;241m.\u001b[39mname]\n",
      "File \u001b[0;32m~/.local/lib/python3.10/site-packages/h5py/_hl/files.py:567\u001b[0m, in \u001b[0;36mFile.__init__\u001b[0;34m(self, name, mode, driver, libver, userblock_size, swmr, rdcc_nslots, rdcc_nbytes, rdcc_w0, track_order, fs_strategy, fs_persist, fs_threshold, fs_page_size, page_buf_size, min_meta_keep, min_raw_keep, locking, alignment_threshold, alignment_interval, meta_block_size, **kwds)\u001b[0m\n\u001b[1;32m    558\u001b[0m     fapl \u001b[38;5;241m=\u001b[39m make_fapl(driver, libver, rdcc_nslots, rdcc_nbytes, rdcc_w0,\n\u001b[1;32m    559\u001b[0m                      locking, page_buf_size, min_meta_keep, min_raw_keep,\n\u001b[1;32m    560\u001b[0m                      alignment_threshold\u001b[38;5;241m=\u001b[39malignment_threshold,\n\u001b[1;32m    561\u001b[0m                      alignment_interval\u001b[38;5;241m=\u001b[39malignment_interval,\n\u001b[1;32m    562\u001b[0m                      meta_block_size\u001b[38;5;241m=\u001b[39mmeta_block_size,\n\u001b[1;32m    563\u001b[0m                      \u001b[38;5;241m*\u001b[39m\u001b[38;5;241m*\u001b[39mkwds)\n\u001b[1;32m    564\u001b[0m     fcpl \u001b[38;5;241m=\u001b[39m make_fcpl(track_order\u001b[38;5;241m=\u001b[39mtrack_order, fs_strategy\u001b[38;5;241m=\u001b[39mfs_strategy,\n\u001b[1;32m    565\u001b[0m                      fs_persist\u001b[38;5;241m=\u001b[39mfs_persist, fs_threshold\u001b[38;5;241m=\u001b[39mfs_threshold,\n\u001b[1;32m    566\u001b[0m                      fs_page_size\u001b[38;5;241m=\u001b[39mfs_page_size)\n\u001b[0;32m--> 567\u001b[0m     fid \u001b[38;5;241m=\u001b[39m \u001b[43mmake_fid\u001b[49m\u001b[43m(\u001b[49m\u001b[43mname\u001b[49m\u001b[43m,\u001b[49m\u001b[43m \u001b[49m\u001b[43mmode\u001b[49m\u001b[43m,\u001b[49m\u001b[43m \u001b[49m\u001b[43muserblock_size\u001b[49m\u001b[43m,\u001b[49m\u001b[43m \u001b[49m\u001b[43mfapl\u001b[49m\u001b[43m,\u001b[49m\u001b[43m \u001b[49m\u001b[43mfcpl\u001b[49m\u001b[43m,\u001b[49m\u001b[43m \u001b[49m\u001b[43mswmr\u001b[49m\u001b[38;5;241;43m=\u001b[39;49m\u001b[43mswmr\u001b[49m\u001b[43m)\u001b[49m\n\u001b[1;32m    569\u001b[0m \u001b[38;5;28;01mif\u001b[39;00m \u001b[38;5;28misinstance\u001b[39m(libver, \u001b[38;5;28mtuple\u001b[39m):\n\u001b[1;32m    570\u001b[0m     \u001b[38;5;28mself\u001b[39m\u001b[38;5;241m.\u001b[39m_libver \u001b[38;5;241m=\u001b[39m libver\n",
      "File \u001b[0;32m~/.local/lib/python3.10/site-packages/h5py/_hl/files.py:231\u001b[0m, in \u001b[0;36mmake_fid\u001b[0;34m(name, mode, userblock_size, fapl, fcpl, swmr)\u001b[0m\n\u001b[1;32m    229\u001b[0m     \u001b[38;5;28;01mif\u001b[39;00m swmr \u001b[38;5;129;01mand\u001b[39;00m swmr_support:\n\u001b[1;32m    230\u001b[0m         flags \u001b[38;5;241m|\u001b[39m\u001b[38;5;241m=\u001b[39m h5f\u001b[38;5;241m.\u001b[39mACC_SWMR_READ\n\u001b[0;32m--> 231\u001b[0m     fid \u001b[38;5;241m=\u001b[39m \u001b[43mh5f\u001b[49m\u001b[38;5;241;43m.\u001b[39;49m\u001b[43mopen\u001b[49m\u001b[43m(\u001b[49m\u001b[43mname\u001b[49m\u001b[43m,\u001b[49m\u001b[43m \u001b[49m\u001b[43mflags\u001b[49m\u001b[43m,\u001b[49m\u001b[43m \u001b[49m\u001b[43mfapl\u001b[49m\u001b[38;5;241;43m=\u001b[39;49m\u001b[43mfapl\u001b[49m\u001b[43m)\u001b[49m\n\u001b[1;32m    232\u001b[0m \u001b[38;5;28;01melif\u001b[39;00m mode \u001b[38;5;241m==\u001b[39m \u001b[38;5;124m'\u001b[39m\u001b[38;5;124mr+\u001b[39m\u001b[38;5;124m'\u001b[39m:\n\u001b[1;32m    233\u001b[0m     fid \u001b[38;5;241m=\u001b[39m h5f\u001b[38;5;241m.\u001b[39mopen(name, h5f\u001b[38;5;241m.\u001b[39mACC_RDWR, fapl\u001b[38;5;241m=\u001b[39mfapl)\n",
      "File \u001b[0;32mh5py/_objects.pyx:54\u001b[0m, in \u001b[0;36mh5py._objects.with_phil.wrapper\u001b[0;34m()\u001b[0m\n",
      "File \u001b[0;32mh5py/_objects.pyx:55\u001b[0m, in \u001b[0;36mh5py._objects.with_phil.wrapper\u001b[0;34m()\u001b[0m\n",
      "File \u001b[0;32mh5py/h5f.pyx:106\u001b[0m, in \u001b[0;36mh5py.h5f.open\u001b[0;34m()\u001b[0m\n",
      "\u001b[0;31mOSError\u001b[0m: Unable to open file (truncated file: eof = 247660544, sblock->base_addr = 0, stored_eof = 247697512)"
     ]
    }
   ],
   "source": [
    "lusso.open()"
   ]
  },
  {
   "cell_type": "code",
   "execution_count": 3,
   "id": "085012f3-4f73-44a0-9507-5d2b06098e56",
   "metadata": {},
   "outputs": [],
   "source": [
    "shoes = emcee.backends.HDFBackend(\"Base/shoes.h5\").get_chain(flat=True) #Previous shoes version\n",
    "planck = emcee.backends.HDFBackend(\"Base/planck.h5\").get_chain(flat=True)\n",
    "holicow = emcee.backends.HDFBackend(\"Base/holicow.h5\").get_chain(flat=True)\n",
    "gaia = emcee.backends.HDFBackend(\"Base/gaia.h5\").get_chain(flat=True)\n",
    "trgb = emcee.backends.HDFBackend(\"Base/trgb.h5\").get_chain(flat=True)\n",
    "act = emcee.backends.HDFBackend(\"Base/act.h5\").get_chain(flat=True)\n",
    "wmap = emcee.backends.HDFBackend(\"Base/wmap.h5\").get_chain(flat=True)\n",
    "spt = emcee.backends.HDFBackend(\"Base/spt.h5\").get_chain(flat=True)\n",
    "gw = emcee.backends.HDFBackend(\"Base/gw.h5\").get_chain(flat=True)\n",
    "parameters = [\"\\Omega_m\",\"w\"]\n",
    "lista = [shoes,planck,holicow,gaia,trgb,act,wmap,spt,gw]\n",
    "nombres = [\"S$H0$ES\",\"Planck\",\"$H0$LiCOW\",\"GAIA\",\"TRGB\",\"ACT\",\"WMAP 9\",\"SPT\",\"GW170717\"]"
   ]
  },
  {
   "cell_type": "code",
   "execution_count": 4,
   "id": "66be8a67-bb76-4717-af01-c1535d05699a",
   "metadata": {},
   "outputs": [],
   "source": [
    "def ensamble():\n",
    "    c = ChainConsumer()\n",
    "    for i in range(len(nombres)):\n",
    "        c.add_chain(lista[i],parameters=parameters,name=nombres[i])\n",
    "    return c"
   ]
  },
  {
   "cell_type": "code",
   "execution_count": 5,
   "id": "d2ba823f-fcfc-42e3-9ca9-d73ee351b350",
   "metadata": {},
   "outputs": [
    {
     "name": "stdout",
     "output_type": "stream",
     "text": [
      "\\begin{table}\n",
      "    \\centering\n",
      "    \\caption{Results for the tested models}\n",
      "    \\label{tab:example}\n",
      "    \\begin{tabular}{ccc}\n",
      "        \\hline\n",
      "\t\tModel & \\Omega_m & w \\\\ \n",
      "\t\t\\hline\n",
      "\t\tS$H0$ES & $\\left( 294.0^{+6.4}_{-7.1} \\right) \\times 10^{-3}$ & $0.065^{+0.034}_{-0.064}$ \\\\ \n",
      "\t\tPlanck & $\\left( 305.1^{+6.8}_{-8.3} \\right) \\times 10^{-3}$ & $0.041^{+0.097}_{-0.040}$ \\\\ \n",
      "\t\t$H0$LiCOW & $\\left( 294.1^{+6.3}_{-7.0} \\right) \\times 10^{-3}$ & $0.069^{+0.030}_{-0.068}$ \\\\ \n",
      "\t\tGAIA & $\\left( 290.1^{+6.2}_{-7.0} \\right) \\times 10^{-3}$ & $0.014^{+0.081}_{-0.013}$ \\\\ \n",
      "\t\tTRGB & $\\left( 289.1^{+7.5}_{-5.7} \\right) \\times 10^{-3}$ & $0.054^{+0.044}_{-0.054}$ \\\\ \n",
      "\t\tACT & $\\left( 303.9^{+7.1}_{-7.8} \\right) \\times 10^{-3}$ & $0.036^{+0.093}_{-0.035}$ \\\\ \n",
      "\t\tWMAP 9 & $\\left( 300.3^{+7.4}_{-6.4} \\right) \\times 10^{-3}$ & $0.043^{+0.062}_{-0.043}$ \\\\ \n",
      "\t\tSPT & $\\left( 303.6^{+6.8}_{-7.6} \\right) \\times 10^{-3}$ & $0.00^{+0.11}_{-0.00}$ \\\\ \n",
      "\t\tGW170717 & $\\left( 304.3^{+7.7}_{-8.5} \\right) \\times 10^{-3}$ & $0.040^{+0.114}_{-0.039}$ \\\\ \n",
      "\t\t\\hline\n",
      "    \\end{tabular}\n",
      "\\end{table}\n"
     ]
    }
   ],
   "source": [
    "c = ensamble()\n",
    "table = c.analysis.get_latex_table(caption=\"Results for the tested models\", label=\"tab:example\")\n",
    "print(table)"
   ]
  },
  {
   "cell_type": "code",
   "execution_count": null,
   "id": "0547ef82-22d9-480a-ac3f-0474d67ea456",
   "metadata": {},
   "outputs": [],
   "source": []
  }
 ],
 "metadata": {
  "kernelspec": {
   "display_name": "Python 3 (ipykernel)",
   "language": "python",
   "name": "python3"
  },
  "language_info": {
   "codemirror_mode": {
    "name": "ipython",
    "version": 3
   },
   "file_extension": ".py",
   "mimetype": "text/x-python",
   "name": "python",
   "nbconvert_exporter": "python",
   "pygments_lexer": "ipython3",
   "version": "3.10.10"
  }
 },
 "nbformat": 4,
 "nbformat_minor": 5
}
