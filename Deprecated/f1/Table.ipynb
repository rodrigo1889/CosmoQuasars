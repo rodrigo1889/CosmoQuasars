{
 "cells": [
  {
   "cell_type": "code",
   "execution_count": 1,
   "id": "ec782a9e-ff61-4bdb-8f75-eef5eedf1fdb",
   "metadata": {},
   "outputs": [],
   "source": [
    "import numpy as np \n",
    "import emcee \n",
    "import matplotlib.pyplot as plt \n",
    "from chainconsumer import ChainConsumer"
   ]
  },
  {
   "cell_type": "code",
   "execution_count": 4,
   "id": "085012f3-4f73-44a0-9507-5d2b06098e56",
   "metadata": {},
   "outputs": [],
   "source": [
    "shoes = emcee.backends.HDFBackend(\"Base/shoes.h5\").get_chain(flat=True) #Previous shoes version\n",
    "planck = emcee.backends.HDFBackend(\"Base/planck.h5\").get_chain(flat=True)\n",
    "holicow = emcee.backends.HDFBackend(\"Base/holicow.h5\").get_chain(flat=True)\n",
    "gaia = emcee.backends.HDFBackend(\"Base/gaia.h5\").get_chain(flat=True)\n",
    "trgb = emcee.backends.HDFBackend(\"Base/tgrb.h5\").get_chain(flat=True)\n",
    "act = emcee.backends.HDFBackend(\"Base/act.h5\").get_chain(flat=True)\n",
    "wmap = emcee.backends.HDFBackend(\"Base/wmap.h5\").get_chain(flat=True)\n",
    "spt = emcee.backends.HDFBackend(\"Base/spt.h5\").get_chain(flat=True)\n",
    "gw = emcee.backends.HDFBackend(\"Base/gw.h5\").get_chain(flat=True)\n",
    "parameters = [\"\\Omega_m\",\"w\"]\n",
    "lista = [shoes,planck,holicow,gaia,trgb,act,wmap,spt,gw]\n",
    "nombres = [\"S$H0$ES\",\"Planck\",\"$H0$LiCOW\",\"GAIA\",\"TRGB\",\"ACT\",\"WMAP 9\",\"SPT\",\"GW170717\"]"
   ]
  },
  {
   "cell_type": "code",
   "execution_count": 5,
   "id": "66be8a67-bb76-4717-af01-c1535d05699a",
   "metadata": {},
   "outputs": [],
   "source": [
    "def ensamble():\n",
    "    c = ChainConsumer()\n",
    "    for i in range(len(nombres)):\n",
    "        c.add_chain(lista[i],parameters=parameters,name=nombres[i])\n",
    "    return c"
   ]
  },
  {
   "cell_type": "code",
   "execution_count": 6,
   "id": "d2ba823f-fcfc-42e3-9ca9-d73ee351b350",
   "metadata": {},
   "outputs": [
    {
     "name": "stdout",
     "output_type": "stream",
     "text": [
      "\\begin{table}\n",
      "    \\centering\n",
      "    \\caption{Results for the tested models}\n",
      "    \\label{tab:example}\n",
      "    \\begin{tabular}{ccc}\n",
      "        \\hline\n",
      "\t\tModel & \\Omega_m & w \\\\ \n",
      "\t\t\\hline\n",
      "\t\tS$H0$ES & $0.356^{+0.012}_{-0.013}$ & $-0.63\\pm 0.14$ \\\\ \n",
      "\t\tPlanck & $0.309^{+0.012}_{-0.013}$ & $-0.003^{+0.070}_{-0.092}$ \\\\ \n",
      "\t\t$H0$LiCOW & $0.357^{+0.014}_{-0.011}$ & $-0.67^{+0.15}_{-0.14}$ \\\\ \n",
      "\t\tGAIA & $\\left( 362.0^{+9.3}_{-13.2} \\right) \\times 10^{-3}$ & $-0.78^{+0.15}_{-0.14}$ \\\\ \n",
      "\t\tTRGB & $0.363^{+0.010}_{-0.012}$ & $-0.79^{+0.12}_{-0.16}$ \\\\ \n",
      "\t\tACT & $0.314^{+0.013}_{-0.012}$ & $-0.075^{+0.085}_{-0.089}$ \\\\ \n",
      "\t\tWMAP 9 & $0.336^{+0.012}_{-0.014}$ & $-0.30\\pm 0.11$ \\\\ \n",
      "\t\tSPT & $0.324\\pm 0.013$ & $-0.159^{+0.091}_{-0.102}$ \\\\ \n",
      "\t\tGW170717 & $0.304^{+0.013}_{-0.012}$ & $0.021^{+0.066}_{-0.091}$ \\\\ \n",
      "\t\t\\hline\n",
      "    \\end{tabular}\n",
      "\\end{table}\n"
     ]
    }
   ],
   "source": [
    "c = ensamble()\n",
    "table = c.analysis.get_latex_table(caption=\"Results for the tested models\", label=\"tab:example\")\n",
    "print(table)"
   ]
  },
  {
   "cell_type": "code",
   "execution_count": null,
   "id": "0547ef82-22d9-480a-ac3f-0474d67ea456",
   "metadata": {},
   "outputs": [],
   "source": []
  }
 ],
 "metadata": {
  "kernelspec": {
   "display_name": "Python 3 (ipykernel)",
   "language": "python",
   "name": "python3"
  },
  "language_info": {
   "codemirror_mode": {
    "name": "ipython",
    "version": 3
   },
   "file_extension": ".py",
   "mimetype": "text/x-python",
   "name": "python",
   "nbconvert_exporter": "python",
   "pygments_lexer": "ipython3",
   "version": "3.10.6"
  }
 },
 "nbformat": 4,
 "nbformat_minor": 5
}
